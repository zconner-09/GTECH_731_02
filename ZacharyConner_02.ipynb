{
 "cells": [
  {
   "cell_type": "code",
   "execution_count": 2,
   "metadata": {},
   "outputs": [],
   "source": [
    "## To calculate population variance\n",
    "    ## given a set of numbers(p)\n",
    "\n",
    "    ## 1. set the output to zero\n",
    "    ## 2. for each number in set(p)\n",
    "        ## a) add number to the output\n",
    "    ## 3. return output number\n",
    "    ## 4. divide output number by total numbers in p to get mean\n",
    "    ## 5. for each number in p,\n",
    "        ## a) subtract each value (i) from the mean\n",
    "        ## b) square the differences\n",
    "    ## 6. return output numbers in set (x)\n",
    "    ## 7. for every number in x\n",
    "        ## a) add the total\n",
    "    ## 8. return output\n",
    "    ## 9. divide output by total numbers in set (p)\n",
    "    ## 10. print(output)"
   ]
  },
  {
   "cell_type": "code",
   "execution_count": 22,
   "metadata": {},
   "outputs": [
    {
     "name": "stdout",
     "output_type": "stream",
     "text": [
      "2.0\n"
     ]
    }
   ],
   "source": [
    "a = [1,2,3,4,5]\n",
    "\n",
    "mean = sum(a)/len(a)\n",
    "var = sum((i - mean) ** 2 for i in a)/ len(a)\n",
    "print(var)"
   ]
  },
  {
   "cell_type": "code",
   "execution_count": 27,
   "metadata": {},
   "outputs": [
    {
     "name": "stdout",
     "output_type": "stream",
     "text": [
      "2.0\n"
     ]
    }
   ],
   "source": [
    "def pop_variance(x = []):\n",
    "    mean = sum(a)/len(a)\n",
    "    var = sum((i - mean) ** 2 for i in x)/ len(x)\n",
    "    return(var)\n",
    "    \n",
    "print(pop_variance([1,2,3,4,5]))"
   ]
  },
  {
   "cell_type": "code",
   "execution_count": 28,
   "metadata": {},
   "outputs": [
    {
     "name": "stdout",
     "output_type": "stream",
     "text": [
      "8995597168.708334\n"
     ]
    }
   ],
   "source": [
    "print(pop_variance([34,11,232323,90,999,1.5]))"
   ]
  },
  {
   "cell_type": "code",
   "execution_count": 29,
   "metadata": {},
   "outputs": [],
   "source": [
    "import matplotlib.pyplot as plt\n",
    "%matplotlib inline"
   ]
  },
  {
   "cell_type": "code",
   "execution_count": 33,
   "metadata": {},
   "outputs": [
    {
     "data": {
      "image/png": "[encoded data removed]",
      "text/plain": [
       "<Figure size 432x288 with 1 Axes>"
      ]
     },
     "metadata": {
      "needs_background": "light"
     },
     "output_type": "display_data"
    }
   ],
   "source": [
    "plt.plot([10,20,30,40,50], 'ro')\n",
    "plt.ylabel('Some numbers')\n",
    "plt.show()"
   ]
  },
  {
   "cell_type": "code",
   "execution_count": null,
   "metadata": {},
   "outputs": [],
   "source": []
  }
 ],
 "metadata": {
  "kernelspec": {
   "display_name": "Python 3",
   "language": "python",
   "name": "python3"
  },
  "language_info": {
   "codemirror_mode": {
    "name": "ipython",
    "version": 3
   },
   "file_extension": ".py",
   "mimetype": "text/x-python",
   "name": "python",
   "nbconvert_exporter": "python",
   "pygments_lexer": "ipython3",
   "version": "3.7.0"
  }
 },
 "nbformat": 4,
 "nbformat_minor": 2
}
